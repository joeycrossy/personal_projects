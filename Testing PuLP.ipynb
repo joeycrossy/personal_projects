{
 "cells": [
  {
   "cell_type": "code",
   "execution_count": 1,
   "metadata": {},
   "outputs": [
    {
     "name": "stderr",
     "output_type": "stream",
     "text": [
      "/Users/joseph_cross/Anaconda/anaconda3/envs/optimus/lib/python3.7/site-packages/pulp/pulp.py:1137: UserWarning: Spaces are not permitted in the name. Converted to '_'\n",
      "  warnings.warn(\"Spaces are not permitted in the name. Converted to '_'\")\n"
     ]
    },
    {
     "name": "stdout",
     "output_type": "stream",
     "text": [
      "The choosen tables are out of a total of 3213:\n",
      "('M', 'N')\n",
      "('E', 'F', 'G')\n",
      "('A', 'B', 'C', 'D')\n",
      "('I', 'J', 'K', 'L')\n",
      "('O', 'P', 'Q', 'R')\n"
     ]
    }
   ],
   "source": [
    "\"\"\"\n",
    "A set partitioning model of a wedding seating problem\n",
    "\n",
    "Authors: Stuart Mitchell 2009\n",
    "\"\"\"\n",
    "\n",
    "import pulp\n",
    "\n",
    "max_tables = 5\n",
    "max_table_size = 4\n",
    "guests = 'A B C D E F G I J K L M N O P Q R'.split()\n",
    "\n",
    "def happiness(table):\n",
    "    \"\"\"\n",
    "    Find the happiness of the table\n",
    "    - by calculating the maximum distance between the letters\n",
    "    \"\"\"\n",
    "    return abs(ord(table[0]) - ord(table[-1]))\n",
    "                \n",
    "#create list of all possible tables\n",
    "possible_tables = [tuple(c) for c in pulp.allcombinations(guests, \n",
    "                                        max_table_size)]\n",
    "\n",
    "#create a binary variable to state that a table setting is used\n",
    "x = pulp.LpVariable.dicts('table', possible_tables, \n",
    "                            lowBound = 0,\n",
    "                            upBound = 1,\n",
    "                            cat = pulp.LpInteger)\n",
    "\n",
    "seating_model = pulp.LpProblem(\"Wedding Seating Model\", pulp.LpMinimize)\n",
    "\n",
    "seating_model += sum([happiness(table) * x[table] for table in possible_tables])\n",
    "\n",
    "#specify the maximum number of tables\n",
    "seating_model += sum([x[table] for table in possible_tables]) <= max_tables, \\\n",
    "                            \"Maximum_number_of_tables\"\n",
    "\n",
    "#A guest must seated at one and only one table\n",
    "for guest in guests:\n",
    "    seating_model += sum([x[table] for table in possible_tables\n",
    "                                if guest in table]) == 1, \"Must_seat_%s\"%guest\n",
    "\n",
    "seating_model.solve()\n",
    "\n",
    "print(\"The choosen tables are out of a total of %s:\"%len(possible_tables))\n",
    "for table in possible_tables:\n",
    "    if x[table].value() == 1.0:\n",
    "        print(table)"
   ]
  },
  {
   "cell_type": "markdown",
   "metadata": {},
   "source": [
    "# Test Weight Optimisation for Lorry Transport"
   ]
  },
  {
   "cell_type": "code",
   "execution_count": 3,
   "metadata": {},
   "outputs": [],
   "source": [
    "model = pulp.LpProblem(\"Weight Dist Model\", pulp.LpMaximize)"
   ]
  },
  {
   "cell_type": "code",
   "execution_count": 4,
   "metadata": {},
   "outputs": [],
   "source": [
    "prod = ['A', 'B', 'C', 'D', 'E', 'F']"
   ]
  },
  {
   "cell_type": "code",
   "execution_count": 5,
   "metadata": {},
   "outputs": [],
   "source": [
    "weight = {'A': 12800,'B': 10900, 'C':11400, 'D':2100, 'E':11300, 'F':2300}"
   ]
  },
  {
   "cell_type": "code",
   "execution_count": 7,
   "metadata": {},
   "outputs": [],
   "source": [
    "profit = {'A': 77878,'B':82713, 'C':82728, 'D':68423, 'E':84119, 'F':77765}"
   ]
  },
  {
   "cell_type": "code",
   "execution_count": 8,
   "metadata": {},
   "outputs": [],
   "source": [
    "x = pulp.LpVariable.dicts('ships_', prod, lowBound=0, cat = \"Binary\")"
   ]
  },
  {
   "cell_type": "code",
   "execution_count": null,
   "metadata": {},
   "outputs": [],
   "source": [
    "# y = pulp.LpVariable.dicts('amount_')"
   ]
  },
  {
   "cell_type": "code",
   "execution_count": 9,
   "metadata": {},
   "outputs": [],
   "source": [
    "model += pulp.lpSum([x[i] * profit[i] for i in prod])"
   ]
  },
  {
   "cell_type": "code",
   "execution_count": 10,
   "metadata": {},
   "outputs": [],
   "source": [
    "model += pulp.lpSum([x[i]* weight[i] for i in prod]) <= 20000\n"
   ]
  },
  {
   "cell_type": "code",
   "execution_count": 28,
   "metadata": {},
   "outputs": [],
   "source": [
    "model += x['E'] + x['D'] <= 1"
   ]
  },
  {
   "cell_type": "code",
   "execution_count": 36,
   "metadata": {},
   "outputs": [],
   "source": [
    "model += x['D'] <= x['B']"
   ]
  },
  {
   "cell_type": "code",
   "execution_count": 37,
   "metadata": {},
   "outputs": [
    {
     "data": {
      "text/plain": [
       "1"
      ]
     },
     "execution_count": 37,
     "metadata": {},
     "output_type": "execute_result"
    }
   ],
   "source": [
    "model.solve()"
   ]
  },
  {
   "cell_type": "code",
   "execution_count": 38,
   "metadata": {},
   "outputs": [
    {
     "name": "stdout",
     "output_type": "stream",
     "text": [
      "A status 0.0\n",
      "B status 1.0\n",
      "C status 0.0\n",
      "D status 1.0\n",
      "E status 0.0\n",
      "F status 1.0\n"
     ]
    }
   ],
   "source": [
    "for i in prod:\n",
    "    print(f\"{i} status {x[i].varValue}\")"
   ]
  },
  {
   "cell_type": "code",
   "execution_count": 18,
   "metadata": {},
   "outputs": [],
   "source": [
    "import numpy as np"
   ]
  },
  {
   "cell_type": "code",
   "execution_count": 39,
   "metadata": {},
   "outputs": [],
   "source": [
    "x_np = np.array([x[i].varValue for i in x])"
   ]
  },
  {
   "cell_type": "code",
   "execution_count": 40,
   "metadata": {},
   "outputs": [],
   "source": [
    "weights_np = np.array([weight[i] for i in weight])"
   ]
  },
  {
   "cell_type": "code",
   "execution_count": 41,
   "metadata": {},
   "outputs": [],
   "source": [
    "profit_np = np.array([profit[i] for i in profit])"
   ]
  },
  {
   "cell_type": "code",
   "execution_count": 42,
   "metadata": {},
   "outputs": [
    {
     "data": {
      "text/plain": [
       "15300.0"
      ]
     },
     "execution_count": 42,
     "metadata": {},
     "output_type": "execute_result"
    }
   ],
   "source": [
    "sum(x_np*weights_np)"
   ]
  },
  {
   "cell_type": "code",
   "execution_count": 43,
   "metadata": {},
   "outputs": [
    {
     "data": {
      "text/plain": [
       "228901.0"
      ]
     },
     "execution_count": 43,
     "metadata": {},
     "output_type": "execute_result"
    }
   ],
   "source": [
    "sum(x_np*profit_np)"
   ]
  },
  {
   "cell_type": "code",
   "execution_count": 44,
   "metadata": {},
   "outputs": [],
   "source": [
    "# Capacitated Plant Location"
   ]
  },
  {
   "cell_type": "code",
   "execution_count": 46,
   "metadata": {},
   "outputs": [],
   "source": [
    "model = pulp.LpProblem(\"Cap Plant Model\", pulp.LpMaximize)"
   ]
  },
  {
   "cell_type": "code",
   "execution_count": 47,
   "metadata": {},
   "outputs": [],
   "source": [
    "plants = ['A', 'B', 'C', 'D']"
   ]
  },
  {
   "cell_type": "code",
   "execution_count": 49,
   "metadata": {},
   "outputs": [],
   "source": [
    "cap = ['High', 'Low']"
   ]
  },
  {
   "cell_type": "code",
   "execution_count": null,
   "metadata": {},
   "outputs": [],
   "source": [
    "cap_p = {'High':,'Low':} # actually df with location specific"
   ]
  },
  {
   "cell_type": "code",
   "execution_count": 48,
   "metadata": {},
   "outputs": [],
   "source": [
    "x = pulp.LpVariable.dicts('loc_', [(i,j) for i in plants for j in plants], lowBound=0, cat = \"Continuous\")"
   ]
  },
  {
   "cell_type": "code",
   "execution_count": 50,
   "metadata": {},
   "outputs": [],
   "source": [
    "y = pulp.LpVariable.dicts('cap_', [(i, s) for i in plants for s in cap] , cat = 'Binary')"
   ]
  },
  {
   "cell_type": "code",
   "execution_count": null,
   "metadata": {},
   "outputs": [],
   "source": [
    "# Objective Function"
   ]
  },
  {
   "cell_type": "code",
   "execution_count": null,
   "metadata": {},
   "outputs": [],
   "source": [
    "model += (pulp.lpSum([fixcost.loc[(i,s)]*y[(i,s)] for i in plants for s in cap])\n",
    "         + pulp.lpSum([varcost.loc[(i,j)] *x[i,j] for i in plants for j in plants])\n",
    "         )"
   ]
  },
  {
   "cell_type": "code",
   "execution_count": null,
   "metadata": {},
   "outputs": [],
   "source": []
  },
  {
   "cell_type": "code",
   "execution_count": 51,
   "metadata": {},
   "outputs": [],
   "source": [
    "# Constraint : total shipped to region j should equal demand of region j"
   ]
  },
  {
   "cell_type": "code",
   "execution_count": null,
   "metadata": {},
   "outputs": [],
   "source": [
    "for j in plants:\n",
    "    model += pulp.lpSum([x[(i,j) for i in plants]]) == demand.loc[j]"
   ]
  },
  {
   "cell_type": "code",
   "execution_count": null,
   "metadata": {},
   "outputs": [],
   "source": [
    "# Constraint: capacity"
   ]
  },
  {
   "cell_type": "code",
   "execution_count": null,
   "metadata": {},
   "outputs": [],
   "source": [
    "for i in plants:\n",
    "    model +=  pulp.lpSum([x[(i,j)] for j in plants]) <= pulp.lpSum([y[(i, s)]*cap_p.loc[i,s] for s in cap])"
   ]
  },
  {
   "cell_type": "code",
   "execution_count": null,
   "metadata": {},
   "outputs": [],
   "source": []
  },
  {
   "cell_type": "markdown",
   "metadata": {},
   "source": [
    "# Whiskas example "
   ]
  },
  {
   "cell_type": "markdown",
   "metadata": {},
   "source": [
    "https://coin-or.github.io/pulp/CaseStudies/a_blending_problem.html"
   ]
  },
  {
   "cell_type": "code",
   "execution_count": 56,
   "metadata": {},
   "outputs": [],
   "source": [
    "import pandas as pd"
   ]
  },
  {
   "cell_type": "code",
   "execution_count": 53,
   "metadata": {},
   "outputs": [],
   "source": [
    "costs = {'chicken': 0.013, \"beef\": 0.008, \"mutton\": 0.010, \n",
    "        'rice': 0.002, 'wheat': 0.005, 'gel':0.001}"
   ]
  },
  {
   "cell_type": "code",
   "execution_count": 54,
   "metadata": {},
   "outputs": [],
   "source": [
    "ingredients = ['chicken', 'beef', 'rice', 'wheat']\n",
    "protein = [0.1,0.2,0,0.04]\n",
    "fat = [0.08, 0.2, 0.01, 0.01]\n",
    "fibre = [0.001, .005, .1, .15]\n",
    "salt = [.002, .005, .002, .008]\n"
   ]
  },
  {
   "cell_type": "code",
   "execution_count": 78,
   "metadata": {},
   "outputs": [],
   "source": [
    "df_ing = pd.DataFrame(index = ingredients, columns = ['protein', 'fat', 'fibre', 'salt'])"
   ]
  },
  {
   "cell_type": "code",
   "execution_count": 79,
   "metadata": {},
   "outputs": [],
   "source": [
    "df_ing['protein'] = protein\n",
    "df_ing['fat'] = fat\n",
    "df_ing['fibre'] = fibre\n",
    "df_ing['salt'] = salt"
   ]
  },
  {
   "cell_type": "code",
   "execution_count": 80,
   "metadata": {},
   "outputs": [],
   "source": [
    "df_ing.loc['limit'] = [8,6,2,0.4]\n",
    "df_ing.loc['direction'] = ['+', '+', '-', '-']"
   ]
  },
  {
   "cell_type": "code",
   "execution_count": 68,
   "metadata": {},
   "outputs": [
    {
     "data": {
      "text/plain": [
       "0.1"
      ]
     },
     "execution_count": 68,
     "metadata": {},
     "output_type": "execute_result"
    }
   ],
   "source": [
    "df_ing.loc['chicken', 'protein']"
   ]
  },
  {
   "cell_type": "code",
   "execution_count": 81,
   "metadata": {},
   "outputs": [
    {
     "data": {
      "text/html": [
       "<div>\n",
       "<style scoped>\n",
       "    .dataframe tbody tr th:only-of-type {\n",
       "        vertical-align: middle;\n",
       "    }\n",
       "\n",
       "    .dataframe tbody tr th {\n",
       "        vertical-align: top;\n",
       "    }\n",
       "\n",
       "    .dataframe thead th {\n",
       "        text-align: right;\n",
       "    }\n",
       "</style>\n",
       "<table border=\"1\" class=\"dataframe\">\n",
       "  <thead>\n",
       "    <tr style=\"text-align: right;\">\n",
       "      <th></th>\n",
       "      <th>protein</th>\n",
       "      <th>fat</th>\n",
       "      <th>fibre</th>\n",
       "      <th>salt</th>\n",
       "    </tr>\n",
       "  </thead>\n",
       "  <tbody>\n",
       "    <tr>\n",
       "      <th>chicken</th>\n",
       "      <td>0.1</td>\n",
       "      <td>0.08</td>\n",
       "      <td>0.001</td>\n",
       "      <td>0.002</td>\n",
       "    </tr>\n",
       "    <tr>\n",
       "      <th>beef</th>\n",
       "      <td>0.2</td>\n",
       "      <td>0.2</td>\n",
       "      <td>0.005</td>\n",
       "      <td>0.005</td>\n",
       "    </tr>\n",
       "    <tr>\n",
       "      <th>rice</th>\n",
       "      <td>0</td>\n",
       "      <td>0.01</td>\n",
       "      <td>0.1</td>\n",
       "      <td>0.002</td>\n",
       "    </tr>\n",
       "    <tr>\n",
       "      <th>wheat</th>\n",
       "      <td>0.04</td>\n",
       "      <td>0.01</td>\n",
       "      <td>0.15</td>\n",
       "      <td>0.008</td>\n",
       "    </tr>\n",
       "    <tr>\n",
       "      <th>limit</th>\n",
       "      <td>8</td>\n",
       "      <td>6</td>\n",
       "      <td>2</td>\n",
       "      <td>0.4</td>\n",
       "    </tr>\n",
       "    <tr>\n",
       "      <th>direction</th>\n",
       "      <td>+</td>\n",
       "      <td>+</td>\n",
       "      <td>-</td>\n",
       "      <td>-</td>\n",
       "    </tr>\n",
       "  </tbody>\n",
       "</table>\n",
       "</div>"
      ],
      "text/plain": [
       "          protein   fat  fibre   salt\n",
       "chicken       0.1  0.08  0.001  0.002\n",
       "beef          0.2   0.2  0.005  0.005\n",
       "rice            0  0.01    0.1  0.002\n",
       "wheat        0.04  0.01   0.15  0.008\n",
       "limit           8     6      2    0.4\n",
       "direction       +     +      -      -"
      ]
     },
     "execution_count": 81,
     "metadata": {},
     "output_type": "execute_result"
    }
   ],
   "source": [
    "df_ing"
   ]
  },
  {
   "cell_type": "code",
   "execution_count": 106,
   "metadata": {},
   "outputs": [],
   "source": [
    "model = pulp.LpProblem(\"Whiskas\", pulp.LpMinimize)"
   ]
  },
  {
   "cell_type": "code",
   "execution_count": 107,
   "metadata": {},
   "outputs": [],
   "source": [
    "# x1 = pulp.LpVariable('chicken', lowBound=0, upBound=100, cat ='Continuous')"
   ]
  },
  {
   "cell_type": "code",
   "execution_count": 108,
   "metadata": {},
   "outputs": [],
   "source": [
    "# x2 = pulp.LpVariable('beef', lowBound=0, upBound=100, cat ='Continuous')"
   ]
  },
  {
   "cell_type": "code",
   "execution_count": 109,
   "metadata": {},
   "outputs": [],
   "source": [
    "x_dict = pulp.LpVariable.dicts('_ing', ['chicken', 'beef'], cat='Continuous')"
   ]
  },
  {
   "cell_type": "markdown",
   "metadata": {},
   "source": [
    "1.000𝑥1+1.000𝑥2=100.0  \n",
    "0.100𝑥1+0.200𝑥2≥8.0 protein  \n",
    "0.080𝑥1+0.100𝑥2≥6.0 fat  \n",
    "0.001𝑥1+0.005𝑥2≤2.0 fibre  \n",
    "0.002𝑥1+0.005𝑥2≤0.4 salt  "
   ]
  },
  {
   "cell_type": "code",
   "execution_count": 112,
   "metadata": {},
   "outputs": [],
   "source": [
    "# model += x1*costs['chicken'] + x2*costs['beef']"
   ]
  },
  {
   "cell_type": "code",
   "execution_count": 113,
   "metadata": {},
   "outputs": [
    {
     "name": "stderr",
     "output_type": "stream",
     "text": [
      "/Users/joseph_cross/Anaconda/anaconda3/envs/optimus/lib/python3.7/site-packages/pulp/pulp.py:1380: UserWarning: Overwriting previously set objective.\n",
      "  warnings.warn(\"Overwriting previously set objective.\")\n"
     ]
    }
   ],
   "source": [
    "model += pulp.lpSum([x_dict[i]*costs[i] for i in ['chicken', 'beef']])"
   ]
  },
  {
   "cell_type": "code",
   "execution_count": 114,
   "metadata": {},
   "outputs": [],
   "source": [
    "model += pulp.lpSum([x_dict[i] for i in ['chicken', 'beef']]) == 100, \"total_req\""
   ]
  },
  {
   "cell_type": "code",
   "execution_count": 115,
   "metadata": {},
   "outputs": [
    {
     "data": {
      "text/plain": [
       "Index(['protein', 'fat', 'fibre', 'salt'], dtype='object')"
      ]
     },
     "execution_count": 115,
     "metadata": {},
     "output_type": "execute_result"
    }
   ],
   "source": [
    "df_ing.columns"
   ]
  },
  {
   "cell_type": "code",
   "execution_count": 116,
   "metadata": {},
   "outputs": [],
   "source": [
    "for ing in ['protein', 'fat', 'fibre', 'salt']:\n",
    "    if df_ing.loc['direction', ing]=='+':\n",
    "        model += pulp.lpSum([x_dict[i]*df_ing.loc[i, ing] for i in ['chicken', 'beef']]) >= df_ing.loc['limit', ing], f\"{ing}_req\"\n",
    "    elif df_ing.loc['direction', ing]=='-':\n",
    "        model += pulp.lpSum([x_dict[i]*df_ing.loc[i, ing] for i in ['chicken', 'beef']]) <= df_ing.loc['limit', ing], f\"{ing}_req\""
   ]
  },
  {
   "cell_type": "code",
   "execution_count": 117,
   "metadata": {},
   "outputs": [
    {
     "data": {
      "text/plain": [
       "1"
      ]
     },
     "execution_count": 117,
     "metadata": {},
     "output_type": "execute_result"
    }
   ],
   "source": [
    "model.solve()"
   ]
  },
  {
   "cell_type": "code",
   "execution_count": 118,
   "metadata": {},
   "outputs": [
    {
     "data": {
      "text/plain": [
       "[_ing_beef, _ing_chicken]"
      ]
     },
     "execution_count": 118,
     "metadata": {},
     "output_type": "execute_result"
    }
   ],
   "source": [
    "model.writeLP(\"WhiskasModel.lp\")"
   ]
  },
  {
   "cell_type": "code",
   "execution_count": 119,
   "metadata": {},
   "outputs": [
    {
     "name": "stdout",
     "output_type": "stream",
     "text": [
      "Status: Optimal\n"
     ]
    }
   ],
   "source": [
    "print(\"Status:\", pulp.LpStatus[model.status])"
   ]
  },
  {
   "cell_type": "code",
   "execution_count": 120,
   "metadata": {},
   "outputs": [
    {
     "name": "stdout",
     "output_type": "stream",
     "text": [
      "_ing_beef = 66.666667\n",
      "_ing_chicken = 33.333333\n"
     ]
    }
   ],
   "source": [
    "# Each of the variables is printed with it's resolved optimum value\n",
    "for v in model.variables():\n",
    "    print(v.name, \"=\", v.varValue)"
   ]
  },
  {
   "cell_type": "code",
   "execution_count": 121,
   "metadata": {},
   "outputs": [
    {
     "name": "stdout",
     "output_type": "stream",
     "text": [
      "0.966666665\n"
     ]
    }
   ],
   "source": [
    "print(model.objective.value())"
   ]
  },
  {
   "cell_type": "code",
   "execution_count": 127,
   "metadata": {},
   "outputs": [
    {
     "name": "stdout",
     "output_type": "stream",
     "text": [
      "      total_req, 0.02, -0.00\n",
      "    protein_req, 0.00, -8.67\n",
      "        fat_req, 0.00, -10.00\n",
      "      fibre_req, 0.00, 1.63\n",
      "       salt_req, -1.67, -0.00\n"
     ]
    }
   ],
   "source": [
    "for name,c in model.constraints.items():\n",
    "    print(f\"{name:>15}, {c.pi:>4.2f}, {c.slack:0.2f}\")"
   ]
  },
  {
   "cell_type": "markdown",
   "metadata": {},
   "source": [
    "## Full Whiskas model"
   ]
  },
  {
   "cell_type": "code",
   "execution_count": 153,
   "metadata": {},
   "outputs": [],
   "source": [
    "model2 = pulp.LpProblem(\"Whiskas_Full\", pulp.LpMinimize)"
   ]
  },
  {
   "cell_type": "code",
   "execution_count": 154,
   "metadata": {},
   "outputs": [
    {
     "data": {
      "text/plain": [
       "Index(['chicken', 'beef', 'mutton', 'rice', 'wheat', 'gel', 'limit',\n",
       "       'direction'],\n",
       "      dtype='object')"
      ]
     },
     "execution_count": 154,
     "metadata": {},
     "output_type": "execute_result"
    }
   ],
   "source": [
    "df_ing.index"
   ]
  },
  {
   "cell_type": "code",
   "execution_count": 155,
   "metadata": {},
   "outputs": [],
   "source": [
    "costs = {'chicken': 0.013, \"beef\": 0.008, \"mutton\": 0.010, \n",
    "        'rice': 0.002, 'wheat': 0.005, 'gel':0.001}\n",
    "\n",
    "ingredients = ['chicken', 'beef', 'mutton', 'rice', 'wheat', 'gel']\n",
    "protein = [0.1,0.2,0.15,0,0.04,0]\n",
    "fat = [0.08, 0.2, 0.11,0.01, 0.01, 0]\n",
    "fibre = [0.001, .005, 0.003, .1, .15, 0]\n",
    "salt = [.002, .005, 0.007,.002, .008, 0]\n",
    "\n",
    "\n",
    "df_ing = pd.DataFrame(index = ingredients, columns = ['protein', 'fat', 'fibre', 'salt'])\n",
    "\n",
    "df_ing['protein'] = protein\n",
    "df_ing['fat'] = fat\n",
    "df_ing['fibre'] = fibre\n",
    "df_ing['salt'] = salt\n",
    "\n",
    "df_ing.loc['limit'] = [8,6,2,0.4]\n",
    "df_ing.loc['direction'] = ['+', '+', '-', '-']"
   ]
  },
  {
   "cell_type": "code",
   "execution_count": 156,
   "metadata": {},
   "outputs": [],
   "source": [
    "x_dict = pulp.LpVariable.dicts('_ing', ingredients, lowBound=0, upBound=100,cat='Continuous')"
   ]
  },
  {
   "cell_type": "code",
   "execution_count": 157,
   "metadata": {},
   "outputs": [],
   "source": [
    "model2 += pulp.lpSum([x_dict[i]*costs[i] for i in ingredients])"
   ]
  },
  {
   "cell_type": "code",
   "execution_count": 158,
   "metadata": {},
   "outputs": [],
   "source": [
    "model2 += pulp.lpSum([x_dict[i] for i in ingredients]) == 100, \"total_req\""
   ]
  },
  {
   "cell_type": "code",
   "execution_count": 159,
   "metadata": {},
   "outputs": [],
   "source": [
    "for ing in ['protein', 'fat', 'fibre', 'salt']:\n",
    "    if df_ing.loc['direction', ing]=='+':\n",
    "        model2 += pulp.lpSum([x_dict[i]*df_ing.loc[i, ing] for i in ingredients]) >= df_ing.loc['limit', ing], f\"{ing}_req\"\n",
    "    elif df_ing.loc['direction', ing]=='-':\n",
    "        model2 += pulp.lpSum([x_dict[i]*df_ing.loc[i, ing] for i in ingredients]) <= df_ing.loc['limit', ing], f\"{ing}_req\""
   ]
  },
  {
   "cell_type": "code",
   "execution_count": 160,
   "metadata": {},
   "outputs": [
    {
     "data": {
      "text/plain": [
       "1"
      ]
     },
     "execution_count": 160,
     "metadata": {},
     "output_type": "execute_result"
    }
   ],
   "source": [
    "model2.solve()"
   ]
  },
  {
   "cell_type": "code",
   "execution_count": 161,
   "metadata": {},
   "outputs": [
    {
     "name": "stdout",
     "output_type": "stream",
     "text": [
      "Status: Optimal\n"
     ]
    }
   ],
   "source": [
    "print(\"Status:\", pulp.LpStatus[model2.status])"
   ]
  },
  {
   "cell_type": "code",
   "execution_count": null,
   "metadata": {},
   "outputs": [],
   "source": []
  },
  {
   "cell_type": "code",
   "execution_count": 163,
   "metadata": {},
   "outputs": [],
   "source": [
    "# help (model.solve)"
   ]
  },
  {
   "cell_type": "code",
   "execution_count": 164,
   "metadata": {},
   "outputs": [
    {
     "name": "stdout",
     "output_type": "stream",
     "text": [
      "_ing_beef = 40.0\n",
      "_ing_chicken = 0.0\n",
      "_ing_gel = 60.0\n",
      "_ing_mutton = 0.0\n",
      "_ing_rice = 0.0\n",
      "_ing_wheat = 0.0\n"
     ]
    }
   ],
   "source": [
    "# Each of the variables is printed with it's resolved optimum value\n",
    "for v in model2.variables():\n",
    "    print(v.name, \"=\", v.varValue)"
   ]
  },
  {
   "cell_type": "code",
   "execution_count": 166,
   "metadata": {},
   "outputs": [
    {
     "name": "stdout",
     "output_type": "stream",
     "text": [
      "0.38\n"
     ]
    }
   ],
   "source": [
    "print(model2.objective.value())"
   ]
  },
  {
   "cell_type": "code",
   "execution_count": 167,
   "metadata": {},
   "outputs": [
    {
     "name": "stdout",
     "output_type": "stream",
     "text": [
      "      total_req, 0.02, -0.00\n",
      "    protein_req, 0.00, -8.67\n",
      "        fat_req, 0.00, -10.00\n",
      "      fibre_req, 0.00, 1.63\n",
      "       salt_req, -1.67, -0.00\n"
     ]
    }
   ],
   "source": [
    "for name,c in model.constraints.items():\n",
    "    print(f\"{name:>15}, {c.pi:>4.2f}, {c.slack:0.2f}\")"
   ]
  },
  {
   "cell_type": "code",
   "execution_count": null,
   "metadata": {},
   "outputs": [],
   "source": []
  }
 ],
 "metadata": {
  "kernelspec": {
   "display_name": "Python 3",
   "language": "python",
   "name": "python3"
  },
  "language_info": {
   "codemirror_mode": {
    "name": "ipython",
    "version": 3
   },
   "file_extension": ".py",
   "mimetype": "text/x-python",
   "name": "python",
   "nbconvert_exporter": "python",
   "pygments_lexer": "ipython3",
   "version": "3.7.6"
  }
 },
 "nbformat": 4,
 "nbformat_minor": 4
}
