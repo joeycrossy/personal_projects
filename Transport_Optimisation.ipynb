{
 "cells": [
  {
   "cell_type": "code",
   "execution_count": 1,
   "metadata": {},
   "outputs": [],
   "source": [
    "import pandas as pd\n",
    "from pulp import *"
   ]
  },
  {
   "cell_type": "markdown",
   "metadata": {},
   "source": [
    "# Brewery Transport\n",
    "## https://coin-or.github.io/pulp/CaseStudies/a_transportation_problem.html\n",
    "A boutique brewery has two warehouses from which it distributes beer to five carefully chosen bars. At the start of every week, each bar sends an order to the brewery’s head office for so many crates of beer, which is then dispatched from the appropriate warehouse to the bar. The brewery would like to have an interactive computer program which they can run week by week to tell them which warehouse should supply which bar so as to minimize the costs of the whole operation. For example, suppose that at the start of a given week the brewery has 1000 cases at warehouse A, and 4000 cases at warehouse B, and that the bars require 500, 900, 1800, 200, and 700 cases respectively. Which warehouse should supply which bar?"
   ]
  },
  {
   "cell_type": "code",
   "execution_count": 40,
   "metadata": {},
   "outputs": [],
   "source": [
    "demand = {'1': 500, '2': 900, '3': 1800, '4':200, '5':700}"
   ]
  },
  {
   "cell_type": "code",
   "execution_count": 41,
   "metadata": {},
   "outputs": [],
   "source": [
    "resource = {'A': 1000, 'B': 4000}"
   ]
  },
  {
   "cell_type": "code",
   "execution_count": 42,
   "metadata": {},
   "outputs": [],
   "source": [
    "model = LpProblem('Transport_Cost_Minimisation', LpMinimize)"
   ]
  },
  {
   "cell_type": "code",
   "execution_count": 43,
   "metadata": {},
   "outputs": [],
   "source": [
    "num_trans = LpVariable.dicts('num', [(i,j) for i in resource.keys() for j in demand.keys()],lowBound=0, cat = 'Integer')"
   ]
  },
  {
   "cell_type": "code",
   "execution_count": 61,
   "metadata": {},
   "outputs": [],
   "source": [
    "# route_active = LpVariable.dicts('active', [(i,j) for i in resource.keys() for j in demand.keys()], cat = 'Binary')"
   ]
  },
  {
   "cell_type": "code",
   "execution_count": 45,
   "metadata": {},
   "outputs": [],
   "source": [
    "costs = pd.DataFrame(index = ['A', 'B'], columns = ['1', '2', '3', '4', '5'])"
   ]
  },
  {
   "cell_type": "code",
   "execution_count": 46,
   "metadata": {},
   "outputs": [],
   "source": [
    "costs['1'] = [2,3]\n",
    "costs['2'] = [4,1]\n",
    "costs['3'] = [5,3]\n",
    "costs['4'] = [2,2]\n",
    "costs['5'] = [1,3]"
   ]
  },
  {
   "cell_type": "code",
   "execution_count": 47,
   "metadata": {},
   "outputs": [
    {
     "data": {
      "text/html": [
       "<div>\n",
       "<style scoped>\n",
       "    .dataframe tbody tr th:only-of-type {\n",
       "        vertical-align: middle;\n",
       "    }\n",
       "\n",
       "    .dataframe tbody tr th {\n",
       "        vertical-align: top;\n",
       "    }\n",
       "\n",
       "    .dataframe thead th {\n",
       "        text-align: right;\n",
       "    }\n",
       "</style>\n",
       "<table border=\"1\" class=\"dataframe\">\n",
       "  <thead>\n",
       "    <tr style=\"text-align: right;\">\n",
       "      <th></th>\n",
       "      <th>1</th>\n",
       "      <th>2</th>\n",
       "      <th>3</th>\n",
       "      <th>4</th>\n",
       "      <th>5</th>\n",
       "    </tr>\n",
       "  </thead>\n",
       "  <tbody>\n",
       "    <tr>\n",
       "      <th>A</th>\n",
       "      <td>2</td>\n",
       "      <td>4</td>\n",
       "      <td>5</td>\n",
       "      <td>2</td>\n",
       "      <td>1</td>\n",
       "    </tr>\n",
       "    <tr>\n",
       "      <th>B</th>\n",
       "      <td>3</td>\n",
       "      <td>1</td>\n",
       "      <td>3</td>\n",
       "      <td>2</td>\n",
       "      <td>3</td>\n",
       "    </tr>\n",
       "  </tbody>\n",
       "</table>\n",
       "</div>"
      ],
      "text/plain": [
       "   1  2  3  4  5\n",
       "A  2  4  5  2  1\n",
       "B  3  1  3  2  3"
      ]
     },
     "execution_count": 47,
     "metadata": {},
     "output_type": "execute_result"
    }
   ],
   "source": [
    "costs"
   ]
  },
  {
   "cell_type": "code",
   "execution_count": 48,
   "metadata": {},
   "outputs": [],
   "source": [
    "# Objective: fulfil orders at lowest cost\n",
    "model += lpSum([num_trans[(i,j)]*costs.loc[i,j] for i in resource.keys() for j in demand.keys()])"
   ]
  },
  {
   "cell_type": "code",
   "execution_count": 49,
   "metadata": {},
   "outputs": [],
   "source": [
    "# Constraint that demand is met\n",
    "for j in demand.keys():\n",
    "    model += lpSum([num_trans[(i,j)] for i in resource.keys()]) == demand[j], f\"Demand at {j}\""
   ]
  },
  {
   "cell_type": "code",
   "execution_count": 54,
   "metadata": {},
   "outputs": [],
   "source": [
    "# Constraint that no warehouse supplies too much\n",
    "for i in resource.keys():\n",
    "    model += lpSum([num_trans[(i,j)] for j in demand.keys()]) <= resource[i], f\"Limit from {i}\""
   ]
  },
  {
   "cell_type": "code",
   "execution_count": 55,
   "metadata": {},
   "outputs": [
    {
     "data": {
      "text/plain": [
       "1"
      ]
     },
     "execution_count": 55,
     "metadata": {},
     "output_type": "execute_result"
    }
   ],
   "source": [
    "model.solve()"
   ]
  },
  {
   "cell_type": "code",
   "execution_count": 56,
   "metadata": {},
   "outputs": [
    {
     "name": "stdout",
     "output_type": "stream",
     "text": [
      "Model Status: Optimal\n"
     ]
    }
   ],
   "source": [
    "print(f\"Model Status: {LpStatus[model.status]}\")"
   ]
  },
  {
   "cell_type": "code",
   "execution_count": 57,
   "metadata": {},
   "outputs": [
    {
     "name": "stdout",
     "output_type": "stream",
     "text": [
      "Objective Value: 8600.0\n"
     ]
    }
   ],
   "source": [
    "print(f\"Objective Value: {model.objective.value()}\")"
   ]
  },
  {
   "cell_type": "code",
   "execution_count": 58,
   "metadata": {},
   "outputs": [
    {
     "name": "stdout",
     "output_type": "stream",
     "text": [
      "num_('A',_'1') 300.0\n",
      "num_('A',_'2') 0.0\n",
      "num_('A',_'3') 0.0\n",
      "num_('A',_'4') 0.0\n",
      "num_('A',_'5') 700.0\n",
      "num_('B',_'1') 200.0\n",
      "num_('B',_'2') 900.0\n",
      "num_('B',_'3') 1800.0\n",
      "num_('B',_'4') 200.0\n",
      "num_('B',_'5') 0.0\n"
     ]
    }
   ],
   "source": [
    "for v in model.variables():\n",
    "    print(v.name,v.varValue)"
   ]
  },
  {
   "cell_type": "code",
   "execution_count": 59,
   "metadata": {},
   "outputs": [
    {
     "name": "stdout",
     "output_type": "stream",
     "text": [
      "Demand_at_1 0.0 -0.0\n",
      "Demand_at_2 0.0 -0.0\n",
      "Demand_at_3 0.0 -0.0\n",
      "Demand_at_4 0.0 -0.0\n",
      "Demand_at_5 0.0 -0.0\n",
      "Limit_from_A 0.0 -0.0\n",
      "Limit_from_B 0.0 900.0\n"
     ]
    }
   ],
   "source": [
    "for name, c in model.constraints.items():\n",
    "    print(name, c.pi, c.slack)"
   ]
  },
  {
   "cell_type": "code",
   "execution_count": null,
   "metadata": {},
   "outputs": [],
   "source": []
  },
  {
   "cell_type": "code",
   "execution_count": null,
   "metadata": {},
   "outputs": [],
   "source": []
  },
  {
   "cell_type": "code",
   "execution_count": null,
   "metadata": {},
   "outputs": [],
   "source": []
  }
 ],
 "metadata": {
  "kernelspec": {
   "display_name": "Python 3",
   "language": "python",
   "name": "python3"
  },
  "language_info": {
   "codemirror_mode": {
    "name": "ipython",
    "version": 3
   },
   "file_extension": ".py",
   "mimetype": "text/x-python",
   "name": "python",
   "nbconvert_exporter": "python",
   "pygments_lexer": "ipython3",
   "version": "3.7.6"
  }
 },
 "nbformat": 4,
 "nbformat_minor": 4
}
