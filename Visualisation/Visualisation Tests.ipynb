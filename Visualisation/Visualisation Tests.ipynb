{
 "cells": [
  {
   "cell_type": "markdown",
   "metadata": {},
   "source": [
    "Trying to mimic this:https://nbremer.github.io/olympicfeathers/"
   ]
  },
  {
   "cell_type": "code",
   "execution_count": 1,
   "metadata": {},
   "outputs": [],
   "source": [
    "import pandas as pd\n",
    "import numpy as np\n",
    "import matplotlib.pyplot as plt"
   ]
  },
  {
   "cell_type": "code",
   "execution_count": 2,
   "metadata": {},
   "outputs": [],
   "source": [
    "df = pd.read_csv(\"olympic_winners.csv\")"
   ]
  },
  {
   "cell_type": "code",
   "execution_count": 17,
   "metadata": {
    "scrolled": true
   },
   "outputs": [],
   "source": [
    "rowing_recent = df[(df['Discipline']=='Rowing')&(df['Edition']>2000)].groupby(['Edition', 'Event_gender', 'Continent']).sum()[['NumMedals']]"
   ]
  },
  {
   "cell_type": "code",
   "execution_count": 23,
   "metadata": {},
   "outputs": [
    {
     "data": {
      "text/plain": [
       "Index(['NumMedals'], dtype='object')"
      ]
     },
     "execution_count": 23,
     "metadata": {},
     "output_type": "execute_result"
    }
   ],
   "source": [
    "rowing_recent.columns"
   ]
  },
  {
   "cell_type": "code",
   "execution_count": 26,
   "metadata": {},
   "outputs": [
    {
     "data": {
      "text/html": [
       "<div>\n",
       "<style scoped>\n",
       "    .dataframe tbody tr th:only-of-type {\n",
       "        vertical-align: middle;\n",
       "    }\n",
       "\n",
       "    .dataframe tbody tr th {\n",
       "        vertical-align: top;\n",
       "    }\n",
       "\n",
       "    .dataframe thead th {\n",
       "        text-align: right;\n",
       "    }\n",
       "</style>\n",
       "<table border=\"1\" class=\"dataframe\">\n",
       "  <thead>\n",
       "    <tr style=\"text-align: right;\">\n",
       "      <th></th>\n",
       "      <th></th>\n",
       "      <th></th>\n",
       "      <th>NumMedals</th>\n",
       "    </tr>\n",
       "    <tr>\n",
       "      <th>Edition</th>\n",
       "      <th>Event_gender</th>\n",
       "      <th>Continent</th>\n",
       "      <th></th>\n",
       "    </tr>\n",
       "  </thead>\n",
       "  <tbody>\n",
       "    <tr>\n",
       "      <td rowspan=\"5\" valign=\"top\">2016</td>\n",
       "      <td rowspan=\"2\" valign=\"top\">M</td>\n",
       "      <td>Europe</td>\n",
       "      <td>6</td>\n",
       "    </tr>\n",
       "    <tr>\n",
       "      <td>Oceania</td>\n",
       "      <td>2</td>\n",
       "    </tr>\n",
       "    <tr>\n",
       "      <td rowspan=\"3\" valign=\"top\">W</td>\n",
       "      <td>Americas</td>\n",
       "      <td>1</td>\n",
       "    </tr>\n",
       "    <tr>\n",
       "      <td>Europe</td>\n",
       "      <td>4</td>\n",
       "    </tr>\n",
       "    <tr>\n",
       "      <td>Oceania</td>\n",
       "      <td>1</td>\n",
       "    </tr>\n",
       "  </tbody>\n",
       "</table>\n",
       "</div>"
      ],
      "text/plain": [
       "                                NumMedals\n",
       "Edition Event_gender Continent           \n",
       "2016    M            Europe             6\n",
       "                     Oceania            2\n",
       "        W            Americas           1\n",
       "                     Europe             4\n",
       "                     Oceania            1"
      ]
     },
     "execution_count": 26,
     "metadata": {},
     "output_type": "execute_result"
    }
   ],
   "source": [
    "rowing_recent.loc(axis=0)[2016,:,:]"
   ]
  },
  {
   "cell_type": "code",
   "execution_count": 41,
   "metadata": {},
   "outputs": [],
   "source": [
    "df_year.loc[df_year.index.get_level_values('Event_gender')=='M', 'Plot'] = 'blue'"
   ]
  },
  {
   "cell_type": "code",
   "execution_count": null,
   "metadata": {},
   "outputs": [],
   "source": [
    "Blue (NCS) (#0085C7), Golden Poppy (#F4C300), Black (#000000), Green (Pantone) (#009F3D) and Cadmium Red (#DF0024)"
   ]
  },
  {
   "cell_type": "code",
   "execution_count": 45,
   "metadata": {},
   "outputs": [],
   "source": [
    "colour_dict = {'Europe':'#0085C7', 'Asia': '#F4C300', 'Africa': '#000000', \n",
    "               'Oceania': '#009F3D', 'Americas': '#DF0024'}"
   ]
  },
  {
   "cell_type": "code",
   "execution_count": 112,
   "metadata": {},
   "outputs": [
    {
     "data": {
      "text/html": [
       "<div>\n",
       "<style scoped>\n",
       "    .dataframe tbody tr th:only-of-type {\n",
       "        vertical-align: middle;\n",
       "    }\n",
       "\n",
       "    .dataframe tbody tr th {\n",
       "        vertical-align: top;\n",
       "    }\n",
       "\n",
       "    .dataframe thead th {\n",
       "        text-align: right;\n",
       "    }\n",
       "</style>\n",
       "<table border=\"1\" class=\"dataframe\">\n",
       "  <thead>\n",
       "    <tr style=\"text-align: right;\">\n",
       "      <th></th>\n",
       "      <th></th>\n",
       "      <th>NumMedals</th>\n",
       "      <th>CumSum</th>\n",
       "      <th>Norm</th>\n",
       "      <th>Colour</th>\n",
       "      <th>Width</th>\n",
       "      <th>Plot</th>\n",
       "    </tr>\n",
       "    <tr>\n",
       "      <th>Event_gender</th>\n",
       "      <th>Continent</th>\n",
       "      <th></th>\n",
       "      <th></th>\n",
       "      <th></th>\n",
       "      <th></th>\n",
       "      <th></th>\n",
       "      <th></th>\n",
       "    </tr>\n",
       "  </thead>\n",
       "  <tbody>\n",
       "    <tr>\n",
       "      <td rowspan=\"2\" valign=\"top\">M</td>\n",
       "      <td>Europe</td>\n",
       "      <td>6</td>\n",
       "      <td>6</td>\n",
       "      <td>0.294524</td>\n",
       "      <td>#0085C7</td>\n",
       "      <td>0.294524</td>\n",
       "      <td>1.079922</td>\n",
       "    </tr>\n",
       "    <tr>\n",
       "      <td>Oceania</td>\n",
       "      <td>2</td>\n",
       "      <td>8</td>\n",
       "      <td>0.392699</td>\n",
       "      <td>#009F3D</td>\n",
       "      <td>0.098175</td>\n",
       "      <td>1.178097</td>\n",
       "    </tr>\n",
       "    <tr>\n",
       "      <td rowspan=\"3\" valign=\"top\">W</td>\n",
       "      <td>Americas</td>\n",
       "      <td>1</td>\n",
       "      <td>1</td>\n",
       "      <td>0.049087</td>\n",
       "      <td>#DF0024</td>\n",
       "      <td>0.049087</td>\n",
       "      <td>0.736311</td>\n",
       "    </tr>\n",
       "    <tr>\n",
       "      <td>Europe</td>\n",
       "      <td>4</td>\n",
       "      <td>5</td>\n",
       "      <td>0.245437</td>\n",
       "      <td>#0085C7</td>\n",
       "      <td>0.196350</td>\n",
       "      <td>0.539961</td>\n",
       "    </tr>\n",
       "    <tr>\n",
       "      <td>Oceania</td>\n",
       "      <td>1</td>\n",
       "      <td>6</td>\n",
       "      <td>0.294524</td>\n",
       "      <td>#009F3D</td>\n",
       "      <td>0.049087</td>\n",
       "      <td>0.490874</td>\n",
       "    </tr>\n",
       "  </tbody>\n",
       "</table>\n",
       "</div>"
      ],
      "text/plain": [
       "                        NumMedals  CumSum      Norm   Colour     Width  \\\n",
       "Event_gender Continent                                                   \n",
       "M            Europe             6       6  0.294524  #0085C7  0.294524   \n",
       "             Oceania            2       8  0.392699  #009F3D  0.098175   \n",
       "W            Americas           1       1  0.049087  #DF0024  0.049087   \n",
       "             Europe             4       5  0.245437  #0085C7  0.196350   \n",
       "             Oceania            1       6  0.294524  #009F3D  0.049087   \n",
       "\n",
       "                            Plot  \n",
       "Event_gender Continent            \n",
       "M            Europe     1.079922  \n",
       "             Oceania    1.178097  \n",
       "W            Americas   0.736311  \n",
       "             Europe     0.539961  \n",
       "             Oceania    0.490874  "
      ]
     },
     "execution_count": 112,
     "metadata": {},
     "output_type": "execute_result"
    }
   ],
   "source": [
    "df_year"
   ]
  },
  {
   "cell_type": "code",
   "execution_count": 114,
   "metadata": {},
   "outputs": [
    {
     "data": {
      "text/plain": [
       "1.1780972450961724"
      ]
     },
     "execution_count": 114,
     "metadata": {},
     "output_type": "execute_result"
    }
   ],
   "source": [
    "3*np.pi/8"
   ]
  },
  {
   "cell_type": "code",
   "execution_count": 132,
   "metadata": {},
   "outputs": [
    {
     "data": {
      "image/png": "[encoded data removed]",
      "text/plain": [
       "<Figure size 720x720 with 1 Axes>"
      ]
     },
     "metadata": {
      "needs_background": "light"
     },
     "output_type": "display_data"
    }
   ],
   "source": [
    "fig, ax = plt.subplots(subplot_kw=dict(polar=True), figsize = (10,10))\n",
    "\n",
    "size = 0.3\n",
    "angle_modifier = 1/4\n",
    "\n",
    "for years in [2016]:\n",
    "    df_year = rowing_recent.loc(axis=0)[years,:,:].reset_index('Edition', drop=True).copy()\n",
    "    \n",
    "    max_value = df_year.groupby('Event_gender').sum().max().values[0]\n",
    "    \n",
    "    df_year['CumSum'] = df_year.groupby('Event_gender').cumsum()\n",
    "    df_year['Norm'] = df_year['CumSum']/max_value * angle_modifier*np.pi\n",
    "    df_year['Colour'] = df_year.index.get_level_values('Continent').map(colour_dict)\n",
    "    df_year['Width'] = df_year['NumMedals']/ max_value* angle_modifier*np.pi\n",
    "    df_year['Plot'] = np.nan\n",
    "    \n",
    "    \n",
    "#     df_year.loc[df_year.index.get_level_values('Event_gender')=='M', 'Colour'] = 'blue'\n",
    "#     df_year.loc[df_year.index.get_level_values('Event_gender')=='W', 'Colour'] = 'pink'\n",
    "    \n",
    "    df_year.loc[df_year.index.get_level_values('Event_gender')=='M', 'Plot'] =\\\n",
    "                    df_year.loc[df_year.index.get_level_values('Event_gender')=='M', 'Norm'] + 2*angle_modifier*np.pi\n",
    "    \n",
    "    df_year.loc[df_year.index.get_level_values('Event_gender')=='W', 'Plot'] =\\\n",
    "                    -df_year.loc[df_year.index.get_level_values('Event_gender')=='W', 'Norm'] + 2*angle_modifier*np.pi\n",
    "    \n",
    "    ax.bar(x=[0.5*np.pi*angle_modifier*2, np.pi*angle_modifier*2],\n",
    "#              2.5*np.pi*angle_modifier*2, 3*np.pi*angle_modifier*2],\n",
    "       width=np.pi*angle_modifier, bottom=0.2, height=size,\n",
    "       color=['pink', 'blue'], edgecolor='w', linewidth=1, align=\"edge\", alpha = 0.1)\n",
    "    \n",
    "    df_year.loc[df_year.index.get_level_values('Event_gender')=='M', 'Width'] =\\\n",
    "                    -df_year.loc[df_year.index.get_level_values('Event_gender')=='M', 'Width'] \n",
    "    ax.bar(x=df_year['Plot'],\n",
    "       width=df_year['Width'], bottom=0.47, height=size/10,\n",
    "       color=df_year['Colour'], edgecolor='w', linewidth=1, align=\"edge\", alpha = 0.6)\n",
    "    \n",
    "    ax.set_xlim(0,np.pi)\n",
    "    ax.set_axis_off\n",
    "    ax.axis('off')\n",
    "    plt.show()"
   ]
  },
  {
   "cell_type": "code",
   "execution_count": null,
   "metadata": {},
   "outputs": [],
   "source": []
  },
  {
   "cell_type": "code",
   "execution_count": 14,
   "metadata": {},
   "outputs": [
    {
     "data": {
      "image/png": "[encoded data removed]",
      "text/plain": [
       "<Figure size 720x720 with 1 Axes>"
      ]
     },
     "metadata": {
      "needs_background": "light"
     },
     "output_type": "display_data"
    }
   ],
   "source": [
    "fig, ax = plt.subplots(subplot_kw=dict(polar=True), figsize = (10,10))\n",
    "\n",
    "size = 0.3\n",
    "vals = np.array([[60., 32.], [37., 40.], [29., 10.]])\n",
    "#normalize vals to 2 pi\n",
    "valsnorm = vals/np.sum(vals)*np.pi\n",
    "#obtain the ordinates of the bar edges\n",
    "valsleft = np.cumsum(np.append(0, valsnorm.flatten()[:-1])).reshape(vals.shape)\n",
    "\n",
    "cmap = plt.get_cmap(\"tab20c\")\n",
    "outer_colors = cmap(np.arange(3)*4)\n",
    "inner_colors = cmap(np.array([1, 2, 5, 6, 9, 10]))\n",
    "\n",
    "ax.bar(x=valsleft[:, 0],\n",
    "       width=valsnorm.sum(axis=1), bottom=1-size, height=size,\n",
    "       color=outer_colors, edgecolor='w', linewidth=1, align=\"edge\")\n",
    "\n",
    "ax.bar(x=valsleft.flatten(),\n",
    "       width=valsnorm.flatten(), bottom=1-2*size, height=size,\n",
    "       color=inner_colors, edgecolor='w', linewidth=1, align=\"edge\")\n",
    "\n",
    "# ax.set(title=\"Pie plot with `ax.bar` and polar coordinates\")\n",
    "ax.set_xlim(0,np.pi)\n",
    "ax.set_axis_off\n",
    "ax.axis('off')\n",
    "plt.show()"
   ]
  },
  {
   "cell_type": "code",
   "execution_count": null,
   "metadata": {},
   "outputs": [],
   "source": []
  }
 ],
 "metadata": {
  "kernelspec": {
   "display_name": "Python 3",
   "language": "python",
   "name": "python3"
  },
  "language_info": {
   "codemirror_mode": {
    "name": "ipython",
    "version": 3
   },
   "file_extension": ".py",
   "mimetype": "text/x-python",
   "name": "python",
   "nbconvert_exporter": "python",
   "pygments_lexer": "ipython3",
   "version": "3.7.4"
  }
 },
 "nbformat": 4,
 "nbformat_minor": 2
}
